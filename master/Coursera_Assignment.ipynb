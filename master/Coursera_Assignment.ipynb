{
    "cells": [
        {
            "cell_type": "markdown",
            "metadata": {},
            "source": "<center>\n    <img src=\"https://cf-courses-data.s3.us.cloud-object-storage.appdomain.cloud/IBMDeveloperSkillsNetwork-DS0105EN-SkillsNetwork/labs/Module2/images/SN_web_lightmode.png\" width=\"300\" alt=\"cognitiveclass.ai logo\"  />\n</center>\n\n#### Add your code below following the instructions given in the course\n"
        },
        {
            "cell_type": "markdown",
            "metadata": {
                "collapsed": true
            },
            "source": "<h1>My Jupyter Notebook on IBM Watson Studio</h1>"
        },
        {
            "cell_type": "markdown",
            "metadata": {},
            "source": "Hey!\nI'm <b>Manav</b> and i want to be a Data Scientist or Data Storyteller."
        },
        {
            "cell_type": "markdown",
            "metadata": {},
            "source": "<i>I'm intrested in Data science because it always catches my intrest about data and can we derive a prediction from it and data science help us to improve the domain very insanely in a positive manner.</i>"
        },
        {
            "cell_type": "markdown",
            "metadata": {},
            "source": "<h3>Program to find factorial of any number.</h3>"
        },
        {
            "cell_type": "code",
            "execution_count": 1,
            "metadata": {},
            "outputs": [
                {
                    "name": "stdout",
                    "output_type": "stream",
                    "text": "Enter the number to find factorial :\n6\nThe factorial of 6 is 720\n"
                }
            ],
            "source": "number= int(input(\"Enter the number to find factorial :\\n\"))\nfactorial = 1\nif number<0:    \n   print(\"Factorial does not exist for negative numbers\")    \n\nelif number == 0:    \n   print(\"The factorial of 0 is 1\")    \n\nelse:    \n   for i in range(1,number + 1):    \n       factorial = factorial*i  \n        \n   print(\"The factorial of\",number,\"is\",factorial)    "
        },
        {
            "cell_type": "markdown",
            "metadata": {},
            "source": "<hr>Horizontal Rule<hr>\n\nBulleted list\n<ul>\n    <li>Mango</li>\n    <li>Orange</li>\n    <li>Banana</li>\n</ul>\n\nNumbered list\n<ol>\n    <li>Tomato</li>\n    <li>Cabbage</li>\n    <li>Potato</li>\n</ol>\n\nTo visit <a href=\"google.com\">Google</a> click on it.\n"
        },
        {
            "cell_type": "code",
            "execution_count": null,
            "metadata": {},
            "outputs": [],
            "source": ""
        }
    ],
    "metadata": {
        "kernelspec": {
            "display_name": "Python 3.10",
            "language": "python",
            "name": "python3"
        },
        "language_info": {
            "codemirror_mode": {
                "name": "ipython",
                "version": 3
            },
            "file_extension": ".py",
            "mimetype": "text/x-python",
            "name": "python",
            "nbconvert_exporter": "python",
            "pygments_lexer": "ipython3",
            "version": "3.10.6"
        }
    },
    "nbformat": 4,
    "nbformat_minor": 1
}