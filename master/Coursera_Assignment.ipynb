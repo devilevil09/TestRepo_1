{
    "cells": [
        {
            "cell_type": "markdown",
            "metadata": {
                "collapsed": true
            },
            "source": "<h1>My Jupyter Notebook on IBM Watson Studio</h1>"
        },
        {
            "cell_type": "markdown",
            "metadata": {},
            "source": "Hey!\nI'm <b>Manav</b> and i want to be a Data Scientist or Data Storyteller."
        },
        {
            "cell_type": "markdown",
            "metadata": {},
            "source": "<i>I'm intrested in Data science because it always catches my intrest about data and can we derive a prediction from it and data science help us to improve the domain very insanely in a positive manner.</i>"
        },
        {
            "cell_type": "markdown",
            "metadata": {},
            "source": "<h3>Program to find factorial of any number.</h3>"
        },
        {
            "cell_type": "code",
            "execution_count": 7,
            "metadata": {},
            "outputs": [
                {
                    "name": "stdout",
                    "output_type": "stream",
                    "text": "Enter the number to find factorial :\n7\nThe factorial of 7 is 5040\n"
                }
            ],
            "source": "number= int(input(\"Enter the number to find factorial :\\n\"))\nfactorial = 1\nif number<0:    \n   print(\"Factorial does not exist for negative numbers\")    \n\nelif number == 0:    \n   print(\"The factorial of 0 is 1\")    \n\nelse:    \n   for i in range(1,number + 1):    \n       factorial = factorial*i  \n        \n   print(\"The factorial of\",number,\"is\",factorial)    "
        },
        {
            "cell_type": "markdown",
            "metadata": {},
            "source": "<hr>Horizontal Rule<hr>\n<ul>\n    <li>Mango</li>\n    <li>Orange</li>\n    <li>Banana</li>\n</ul>\n<ol>\n    <li>Tomato</li>\n    <li>Cabbage</li>\n    <li>Potato</li>\n</ol>\n\n<a href \"google.com\">Google</a>"
        },
        {
            "cell_type": "code",
            "execution_count": null,
            "metadata": {},
            "outputs": [],
            "source": ""
        }
    ],
    "metadata": {
        "kernelspec": {
            "display_name": "Python 3.10",
            "language": "python",
            "name": "python3"
        },
        "language_info": {
            "codemirror_mode": {
                "name": "ipython",
                "version": 3
            },
            "file_extension": ".py",
            "mimetype": "text/x-python",
            "name": "python",
            "nbconvert_exporter": "python",
            "pygments_lexer": "ipython3",
            "version": "3.10.6"
        }
    },
    "nbformat": 4,
    "nbformat_minor": 1
}